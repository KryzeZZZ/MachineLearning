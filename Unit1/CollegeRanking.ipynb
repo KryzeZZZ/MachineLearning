{
 "cells": [
  {
   "cell_type": "code",
   "execution_count": 2,
   "metadata": {},
   "outputs": [],
   "source": [
    "import pandas as pd\n",
    "import numpy as np\n",
    "from sklearn.model_selection import train_test_split\n",
    "from sklearn.ensemble import RandomForestRegressor\n",
    "from sklearn.metrics import mean_squared_error, r2_score"
   ]
  },
  {
   "cell_type": "code",
   "execution_count": 3,
   "metadata": {},
   "outputs": [],
   "source": [
    "df = pd.read_csv(\"cwurData.csv\")\n",
    "features = [\"quality_of_education\", \"alumni_employment\", \"quality_of_faculty\", \"publications\", \"influence\", \"citations\", \"patents\", \"score\"]"
   ]
  },
  {
   "cell_type": "code",
   "execution_count": 4,
   "metadata": {},
   "outputs": [],
   "source": [
    "X = df[features]\n",
    "y = df[\"world_rank\"]\n",
    "X = X.fillna(X.mean())\n",
    "y = y.fillna(y.mean())\n",
    "df = df.drop(columns=['institution', 'country', 'national_rank', 'year', 'broad_impact'])  # 去掉不相关列"
   ]
  },
  {
   "cell_type": "code",
   "execution_count": 5,
   "metadata": {},
   "outputs": [],
   "source": [
    "X_train, X_test, y_train, y_test = train_test_split(X, y, test_size=0.2, random_state=42)\n",
    "model = RandomForestRegressor(n_estimators=10000, random_state=42, n_jobs=8)  # 设置100棵树"
   ]
  },
  {
   "cell_type": "code",
   "execution_count": 6,
   "metadata": {},
   "outputs": [],
   "source": [
    "model.fit(X_train, y_train)\n",
    "y_pred = model.predict(X_test)"
   ]
  },
  {
   "cell_type": "code",
   "execution_count": 7,
   "metadata": {},
   "outputs": [
    {
     "name": "stdout",
     "output_type": "stream",
     "text": [
      "Feature Importances: [0.0041732  0.00558172 0.02412904 0.16895522 0.01863325 0.01001639\n",
      " 0.00369626 0.76481492]\n",
      "Mean Squared Error: 151.82204194263642\n",
      "R-squared: 0.9983439605519461\n",
      "Accuracy (within ±10 ranks): 0.865909090909091\n",
      "   Actual Rank  Predicted Rank\n",
      "0          252        254.7470\n",
      "1          135        144.4106\n",
      "2          562        565.6845\n",
      "3          536        535.3966\n",
      "4          377        375.3373\n",
      "5          911        913.9166\n",
      "6          395        395.4291\n",
      "7          331        328.6466\n",
      "8          452        452.7210\n",
      "9          620        619.1286\n"
     ]
    }
   ],
   "source": [
    "mse = mean_squared_error(y_test, y_pred)\n",
    "r2 = r2_score(y_test, y_pred)\n",
    "threshold = 10\n",
    "accuracy = np.mean(np.abs(y_test - y_pred) <= threshold)\n",
    "print(\"Feature Importances:\", model.feature_importances_)  # 输出特征的重要性\n",
    "print(\"Mean Squared Error:\", mse)\n",
    "print(\"R-squared:\", r2)\n",
    "print(\"Accuracy (within ±{} ranks):\".format(threshold), accuracy)\n",
    "output_df = pd.DataFrame({\"Actual Rank\": y_test.values, \"Predicted Rank\": y_pred})\n",
    "print(output_df.head(10))"
   ]
  },
  {
   "cell_type": "code",
   "execution_count": 8,
   "metadata": {},
   "outputs": [
    {
     "name": "stdout",
     "output_type": "stream",
     "text": [
      "Predicted World Rank for University of Salamanca: 619.1286\n"
     ]
    }
   ],
   "source": [
    "new_university = pd.DataFrame([[355, 423, 210, 558, 558, 363, 737, 44.77]], columns=features)\n",
    "predicted_rank = model.predict(new_university)\n",
    "print(\"Predicted World Rank for University of Salamanca:\", predicted_rank[0])"
   ]
  }
 ],
 "metadata": {
  "kernelspec": {
   "display_name": "Python 3",
   "language": "python",
   "name": "python3"
  },
  "language_info": {
   "codemirror_mode": {
    "name": "ipython",
    "version": 3
   },
   "file_extension": ".py",
   "mimetype": "text/x-python",
   "name": "python",
   "nbconvert_exporter": "python",
   "pygments_lexer": "ipython3",
   "version": "3.13.2"
  }
 },
 "nbformat": 4,
 "nbformat_minor": 2
}
