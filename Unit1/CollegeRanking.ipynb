{
 "cells": [
  {
   "cell_type": "code",
   "execution_count": null,
   "metadata": {},
   "outputs": [],
   "source": [
    "#导入\n",
    "import torch\n",
    "import numpy as np\n",
    "import pandas as pd\n",
    "from sklearn.model_selection import train_test_split\n",
    "from sklearn.metrics import mean_squared_error"
   ]
  },
  {
   "cell_type": "code",
   "execution_count": 10,
   "metadata": {},
   "outputs": [],
   "source": [
    "# 数据处理\n",
    "df = pd.read_csv(\"cwurData.csv\")\n",
    "features = [\"quality_of_education\", \"alumni_employment\", \"quality_of_faculty\", \"publications\", \"influence\", \"citations\",\n",
    "            \"patents\", \"score\"]\n",
    "X = df[features].values\n",
    "y = df[\"world_rank\"].values"
   ]
  },
  {
   "cell_type": "code",
   "execution_count": 11,
   "metadata": {},
   "outputs": [],
   "source": [
    "# 填充缺失值\n",
    "X = np.nan_to_num(X, nan=np.nanmean(X, axis=0))\n",
    "y = np.nan_to_num(y, nan=np.nanmean(y))"
   ]
  },
  {
   "cell_type": "code",
   "execution_count": 12,
   "metadata": {},
   "outputs": [],
   "source": [
    "# 划分训练集和测试集\n",
    "X_train, X_test, y_train, y_test = train_test_split(X, y, test_size=0.2, random_state=42)"
   ]
  },
  {
   "cell_type": "code",
   "execution_count": 13,
   "metadata": {},
   "outputs": [],
   "source": [
    "# 检查数据中是否存在 NaN 或 inf\n",
    "if np.any(np.isnan(X_train)) or np.any(np.isnan(y_train)):\n",
    "    print(\"Training data contains NaN values.\")\n",
    "if np.any(np.isnan(X_test)) or np.any(np.isnan(y_test)):\n",
    "    print(\"Test data contains NaN values.\")"
   ]
  },
  {
   "cell_type": "code",
   "execution_count": 14,
   "metadata": {},
   "outputs": [],
   "source": [
    "# 将数据转移到 GPU\n",
    "device = torch.device(\"cuda\" if torch.cuda.is_available() else \"cpu\")\n",
    "X_train = torch.tensor(X_train).float().to(device)\n",
    "y_train = torch.tensor(y_train).float().to(device)\n",
    "X_test = torch.tensor(X_test).float().to(device)\n",
    "y_test = torch.tensor(y_test).float().to(device)"
   ]
  },
  {
   "cell_type": "code",
   "execution_count": 15,
   "metadata": {},
   "outputs": [],
   "source": [
    "# 构建线性回归模型\n",
    "class LinearRegressionModel(torch.nn.Module):\n",
    "    def __init__(self, input_dim):\n",
    "        super(LinearRegressionModel, self).__init__()\n",
    "        self.linear = torch.nn.Linear(input_dim, 1)\n",
    "\n",
    "    def forward(self, x):\n",
    "        return self.linear(x)"
   ]
  },
  {
   "cell_type": "code",
   "execution_count": 17,
   "metadata": {},
   "outputs": [],
   "source": [
    "# 初始化模型\n",
    "input_dim = X_train.shape[1]\n",
    "model = LinearRegressionModel(input_dim).to(device)"
   ]
  },
  {
   "cell_type": "code",
   "execution_count": 18,
   "metadata": {},
   "outputs": [],
   "source": [
    "# 定义损失函数和优化器\n",
    "criterion = torch.nn.MSELoss()\n",
    "optimizer = torch.optim.SGD(model.parameters(), lr=0.01)  # 更低的学习率"
   ]
  },
  {
   "cell_type": "code",
   "execution_count": 19,
   "metadata": {},
   "outputs": [
    {
     "name": "stdout",
     "output_type": "stream",
     "text": [
      "Epoch [100/1000], Loss: 7918.7554\n",
      "Epoch [200/1000], Loss: 7523.8237\n",
      "Epoch [300/1000], Loss: 7418.2339\n",
      "Epoch [400/1000], Loss: 7363.1689\n",
      "Epoch [500/1000], Loss: 7330.1587\n",
      "Epoch [600/1000], Loss: 7309.8521\n",
      "Epoch [700/1000], Loss: 7297.1948\n",
      "Epoch [800/1000], Loss: 7289.1885\n",
      "Epoch [900/1000], Loss: 7284.0254\n",
      "Epoch [1000/1000], Loss: 7280.6152\n"
     ]
    }
   ],
   "source": [
    "# 训练模型\n",
    "epochs = 1000\n",
    "for epoch in range(epochs):\n",
    "    model.train()\n",
    "    optimizer.zero_grad()\n",
    "\n",
    "    # 前向传播\n",
    "    predictions = model(X_train)\n",
    "\n",
    "    # 计算损失\n",
    "    loss = criterion(predictions.squeeze(), y_train)\n",
    "\n",
    "    # 反向传播\n",
    "    loss.backward()\n",
    "\n",
    "    # 梯度裁剪：防止梯度爆炸\n",
    "    torch.nn.utils.clip_grad_norm_(model.parameters(), max_norm=1.0)\n",
    "\n",
    "    # 更新参数\n",
    "    optimizer.step()\n",
    "\n",
    "    # 输出训练进度\n",
    "    if (epoch + 1) % 100 == 0:\n",
    "        print(f\"Epoch [{epoch + 1}/{epochs}], Loss: {loss.item():.4f}\")"
   ]
  },
  {
   "cell_type": "code",
   "execution_count": 20,
   "metadata": {},
   "outputs": [
    {
     "name": "stdout",
     "output_type": "stream",
     "text": [
      "Mean Squared Error: 9101.1962890625\n",
      "Accuracy (within ±10 ranks): 13.18%\n",
      "   Actual Rank  Predicted Rank\n",
      "0        252.0      222.264008\n",
      "1        135.0      268.736572\n",
      "2        562.0      484.814026\n",
      "3        536.0      591.082581\n",
      "4        377.0      456.468353\n",
      "5        911.0      894.368652\n",
      "6        395.0      594.057434\n",
      "7        331.0      353.020813\n",
      "8        452.0      569.058411\n",
      "9        620.0      573.238098\n"
     ]
    }
   ],
   "source": [
    "# 评估模型\n",
    "model.eval()\n",
    "with torch.no_grad():\n",
    "    y_pred = model(X_test).squeeze()\n",
    "    mse = mean_squared_error(y_test.cpu().numpy(), y_pred.cpu().numpy())\n",
    "    print(f\"Mean Squared Error: {mse}\")\n",
    "\n",
    "    # 计算准确度（以±10为阈值）\n",
    "    threshold = 10\n",
    "    accuracy = np.mean(np.abs(y_test.cpu().numpy() - y_pred.cpu().numpy()) <= threshold)\n",
    "    print(f\"Accuracy (within ±{threshold} ranks): {accuracy * 100:.2f}%\")\n",
    "\n",
    "    # 输出预测结果的前10个\n",
    "    output_df = pd.DataFrame({\"Actual Rank\": y_test[:10].cpu().numpy(), \"Predicted Rank\": y_pred[:10].cpu().numpy()})\n",
    "    print(output_df)"
   ]
  },
  {
   "cell_type": "code",
   "execution_count": null,
   "metadata": {},
   "outputs": [
    {
     "name": "stdout",
     "output_type": "stream",
     "text": [
      "Predicted World Rank for University of Salamanca: 573.2380981445312\n"
     ]
    }
   ],
   "source": [
    "# 对新大学进行预测（并不新）\n",
    "new_university = torch.tensor([[355, 423, 210, 558, 558, 363, 737, 44.77]]).float().to(device)\n",
    "predicted_rank = model(new_university).item()\n",
    "print(\"Predicted World Rank for University of Salamanca:\", predicted_rank)"
   ]
  }
 ],
 "metadata": {
  "kernelspec": {
   "display_name": "Python 3",
   "language": "python",
   "name": "python3"
  },
  "language_info": {
   "codemirror_mode": {
    "name": "ipython",
    "version": 3
   },
   "file_extension": ".py",
   "mimetype": "text/x-python",
   "name": "python",
   "nbconvert_exporter": "python",
   "pygments_lexer": "ipython3",
   "version": "3.13.2"
  }
 },
 "nbformat": 4,
 "nbformat_minor": 2
}
